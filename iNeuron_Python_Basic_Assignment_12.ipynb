{
 "cells": [
  {
   "cell_type": "markdown",
   "metadata": {},
   "source": [
    "Q1. In what modes should the PdfFileReader() and PdfFileWriter() File objects will be opened?\n",
    "\n",
    "Ans: These files will be opened in binary mode. read binary (rb) for PdfFileREader() and write binary (wb) for\n",
    "     PdfFileWriter()"
   ]
  },
  {
   "cell_type": "code",
   "execution_count": 1,
   "metadata": {},
   "outputs": [
    {
     "name": "stdout",
     "output_type": "stream",
     "text": [
      "Requirement already satisfied: PyPDF2 in ./opt/anaconda3/lib/python3.8/site-packages (3.0.1)\r\n",
      "Requirement already satisfied: typing_extensions>=3.10.0.0 in ./opt/anaconda3/lib/python3.8/site-packages (from PyPDF2) (4.4.0)\r\n"
     ]
    }
   ],
   "source": [
    "!pip install PyPDF2"
   ]
  },
  {
   "cell_type": "markdown",
   "metadata": {},
   "source": [
    "Q2. From a PdfFileReader object, how do you get a Page object for page 5?\n",
    "\n",
    "Ans: Calling getPage(4) will return a Page object for page 5 since page 0 is the first page."
   ]
  },
  {
   "cell_type": "code",
   "execution_count": null,
   "metadata": {},
   "outputs": [],
   "source": [
    "import PyPDF2 as pdf\n",
    "pdfFileObj = open(\"helloworld.pdf\",'rb')\n",
    "pdfReader = pdf.PdfFileReader(pdfFileObj)\n",
    "pageObj = pdfReader.getPage(4)\n",
    "pageObj.extractText()"
   ]
  },
  {
   "cell_type": "markdown",
   "metadata": {},
   "source": [
    "Q3. What PdfFileReader variable stores the number of pages in the PDF document?"
   ]
  },
  {
   "cell_type": "code",
   "execution_count": null,
   "metadata": {},
   "outputs": [],
   "source": [
    "import PyPDF2 as pdf\n",
    "pdfFileObj = open(\"helloworld.pdf\",'rb')\n",
    "pdfReader = pdf.PdfFileReader(pdfFileObj)\n",
    "pdfReader.numPages     "
   ]
  },
  {
   "cell_type": "markdown",
   "metadata": {},
   "source": [
    "Q4. If a PdfFileReader object’s PDF is encrypted with the password swordfish, what must you do\n",
    "before you can obtain Page objects from it?\n",
    "\n",
    "Ans: Before we obtain the page object, the pdf has to be decrypted by calling .decrypt('swordfish')"
   ]
  },
  {
   "cell_type": "markdown",
   "metadata": {},
   "source": [
    "Q5. What methods do you use to rotate a page?\n",
    "\n",
    "Ans: pageObj.rotateClockwise(180)\n",
    "     \n",
    "     The rotateClockwise() and rotateCounterClockwise() methods. The degrees to rotate is passed as an \n",
    "     integer argument     "
   ]
  },
  {
   "cell_type": "markdown",
   "metadata": {},
   "source": [
    "Q6. What is the difference between a Run object and a Paragraph object?\n",
    "\n",
    "Ans: Run Objects : Runs are contiguous groups of characters within a paragraph with the same style\n",
    "        \n",
    "     Paragraph Object : A document contains multiple paragraphs. A paragraph begins on a new line and contains\n",
    "     multiple runs. The Document object contains a list of Paragraph objects for the paragraphs in the document.\n",
    "     (A new paragraph begins whenever the user presses ENTER or RETURN while typing in a Word document.)"
   ]
  },
  {
   "cell_type": "markdown",
   "metadata": {},
   "source": [
    "Q7. How do you obtain a list of Paragraph objects for a Document object that’s stored in a variable\n",
    "named doc?"
   ]
  },
  {
   "cell_type": "code",
   "execution_count": 2,
   "metadata": {},
   "outputs": [
    {
     "name": "stdout",
     "output_type": "stream",
     "text": [
      "Requirement already satisfied: python-docx in ./opt/anaconda3/lib/python3.8/site-packages (0.8.11)\r\n",
      "Requirement already satisfied: lxml>=2.3.2 in ./opt/anaconda3/lib/python3.8/site-packages (from python-docx) (4.6.1)\r\n"
     ]
    }
   ],
   "source": [
    "!pip install python-docx"
   ]
  },
  {
   "cell_type": "code",
   "execution_count": null,
   "metadata": {},
   "outputs": [],
   "source": [
    "import docx\n",
    "doc = docx.Document('abc.docx')\n",
    "doc.paragraphs\n",
    "#By using doc.paragraphs"
   ]
  },
  {
   "cell_type": "markdown",
   "metadata": {},
   "source": [
    "Q8. What type of object has bold, underline, italic, strike, and outline variables?\n",
    "\n",
    "Ans: A Run object has bold, underline,italic,strike and outline variables"
   ]
  },
  {
   "cell_type": "markdown",
   "metadata": {},
   "source": [
    "Q9. What is the difference between False, True, and None for the bold variable?\n",
    "\n",
    "Ans:Runs can be further styled using text attributes. Each attribute can be set to one of three values:\n",
    "     \n",
    "    True (the attribute is always enabled, no matter what other styles are applied to the run),\n",
    "    \n",
    "    False (the attribute is always disabled),\n",
    "    \n",
    "    None (defaults to whatever the run’s style is set to)\n",
    "\n",
    "    True always makes the Run object bolded and False makes it always not bolded, no matter what the style’s\n",
    "    bold setting is. None will make the Run object just use the style’s bold setting"
   ]
  },
  {
   "cell_type": "markdown",
   "metadata": {},
   "source": [
    "Q10. How do you create a Document object for a new Word document?\n",
    "\n",
    "Ans: By Calling the docx.Document() function."
   ]
  },
  {
   "cell_type": "markdown",
   "metadata": {},
   "source": [
    "Q11. How do you add a paragraph with the text 'Hello, there!' to a Document object stored in a\n",
    "variable named doc?"
   ]
  },
  {
   "cell_type": "code",
   "execution_count": 3,
   "metadata": {},
   "outputs": [],
   "source": [
    "import docx\n",
    "doc = docx.Document()\n",
    "\n",
    "doc.add_paragraph('Hello there!')\n",
    "doc.save('hellothere.docx')"
   ]
  },
  {
   "cell_type": "markdown",
   "metadata": {},
   "source": [
    "Q12. What integers represent the levels of headings available in Word documents?\n",
    "\n",
    "Ans: Integer from 0 to 4\n",
    "     The arguments to add_heading() are a string of the heading text and an integer from 0 to 4. \n",
    "     The integer 0 makes the heading the Title style, which is used for the top of the document.\n",
    "     Integers 1 to 4 are for various heading levels, with 1 being the main heading and 4 the lowest subheading."
   ]
  }
 ],
 "metadata": {
  "kernelspec": {
   "display_name": "Python 3",
   "language": "python",
   "name": "python3"
  },
  "language_info": {
   "codemirror_mode": {
    "name": "ipython",
    "version": 3
   },
   "file_extension": ".py",
   "mimetype": "text/x-python",
   "name": "python",
   "nbconvert_exporter": "python",
   "pygments_lexer": "ipython3",
   "version": "3.8.5"
  }
 },
 "nbformat": 4,
 "nbformat_minor": 4
}
